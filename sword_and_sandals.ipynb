{
  "nbformat": 4,
  "nbformat_minor": 0,
  "metadata": {
    "colab": {
      "provenance": []
    },
    "kernelspec": {
      "name": "python3",
      "display_name": "Python 3"
    },
    "language_info": {
      "name": "python"
    }
  },
  "cells": [
    {
      "cell_type": "code",
      "execution_count": 118,
      "metadata": {
        "id": "ohPgu8aicKlA"
      },
      "outputs": [],
      "source": [
        "import base64\n",
        "# https://www.minigames.pro/swords-and-sandals-2-emperors-reign-full-version/#\n",
        "# local storage > cache\n",
        "value = \"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\"\n",
        "\n",
        "value = base64.b64decode(value)\n",
        "original = value\n",
        "new = bytearray(value)\n",
        "\n",
        "def u2(u):\n",
        "  return u.to_bytes(2, 'big')\n",
        "def u4(u):\n",
        "  return u.to_bytes(4, 'big')\n",
        "\n",
        "def cut(data, n):\n",
        "  left = data[:n]\n",
        "  data[:] = data[n:]\n",
        "  return left\n",
        "\n",
        "class length_str:\n",
        "  def __init__(self, data):\n",
        "\n",
        "    u2 = cut(data, 2)\n",
        "    length = int.from_bytes(u2, 'big')\n",
        "    self.string = cut(data, length).decode('utf-8')\n",
        "\n",
        "  def get_bytes(self):\n",
        "    return u2(len(self.string)) + self.string.encode('utf-8')\n",
        "  def __str__(self):\n",
        "    return self.string\n",
        "\n",
        "\n",
        "def kv(data):\n",
        "  length_str(data)\n",
        "  cut(data, 1)\n",
        "  return length_str(data)\n",
        "\n",
        "class character:\n",
        "  def __init__(self, data):\n",
        "    self.chari = length_str(data)\n",
        "    broken = cut(data, 1)\n",
        "    if broken == b'\\x02':\n",
        "      self.empty = True\n",
        "      self.empty_data = broken + cut(data, 13)\n",
        "      return\n",
        "\n",
        "    n = int.from_bytes(cut(data, 4), 'big')\n",
        "    if n != 50:\n",
        "      self.empty = True\n",
        "      self.empty_data = b'\\x08' + u4(n)\n",
        "      for x in range(n):\n",
        "        ss = str(x).encode('utf-8')\n",
        "        xx = bytearray(u2(len(ss))+ss)\n",
        "        self.empty_data += length_str(xx).get_bytes() + b'\\x02' + kv(data).get_bytes()\n",
        "      assert b'\\x00\\x00\\x09' == cut(data, 3)\n",
        "      self.empty_data += b'\\x00\\x00\\x09'\n",
        "      return\n",
        "    self.empty = False\n",
        "\n",
        "    self.hero_name = kv(data)\n",
        "    self.skincolor = kv(data)\n",
        "    self.haircolor = kv(data)\n",
        "    self.features = kv(data)\n",
        "    self.hairstyle = kv(data)\n",
        "    self.facehairstyle = kv(data)\n",
        "    self.shoulderguard = kv(data)\n",
        "    self.gauntlet = kv(data)\n",
        "    self.breastplate = kv(data)\n",
        "    self.helmet = kv(data)\n",
        "    self.greaves = kv(data)\n",
        "    self.shinguard = kv(data)\n",
        "    self.boot = kv(data)\n",
        "    self.weapon = kv(data)\n",
        "    self.shield = kv(data)\n",
        "    self.battlesfought = kv(data)\n",
        "    self.strength = kv(data)\n",
        "    self.speed = kv(data)\n",
        "    self.attack = kv(data)\n",
        "    self.defence = kv(data)\n",
        "    self.vitality = kv(data)\n",
        "    self.charisma = kv(data)\n",
        "    self.stamina = kv(data)\n",
        "    self.magicka = kv(data)\n",
        "    self.herolevel = kv(data)\n",
        "    self.experience = kv(data)\n",
        "    self.experienceneeded = kv(data)\n",
        "    self.villain_xp = kv(data)\n",
        "    self.mostpowerfulfoe = kv(data)\n",
        "    self.goldpieces = kv(data)\n",
        "    self.current_tournament = kv(data)\n",
        "    self.gladiatorscore = kv(data)\n",
        "    self.weapon_enchantment_potency = kv(data)\n",
        "    self.weapon_enchantment_type = kv(data)\n",
        "    self.inventory1 = kv(data)\n",
        "    self.inventory2 = kv(data)\n",
        "    self.inventory3 = kv(data)\n",
        "    self.inventory4 = kv(data)\n",
        "    self.inventory5 = kv(data)\n",
        "    self.inventory6 = kv(data)\n",
        "    self.inventory_maxslots = kv(data)\n",
        "    self.battleswon = kv(data)\n",
        "    self.days_in_arena = kv(data)\n",
        "    self.battlesfought2 = kv(data)\n",
        "    self.battleslost = kv(data)\n",
        "    self.secondary_weapon = kv(data)\n",
        "    self.secondary_weapon_enchantment_potency = kv(data)\n",
        "    self.secondary_weapon_enchantment_type = kv(data)\n",
        "    self.maximum_ammo = kv(data)\n",
        "    self.equipped_weapon = kv(data)\n",
        "\n",
        "    cut(data, 3)\n",
        "\n",
        "\n",
        "  def get_bytes(self):\n",
        "    if self.empty:\n",
        "      return self.chari.get_bytes() + self.empty_data\n",
        "    return self.chari.get_bytes() + b'\\x08' + u4(50) \\\n",
        "        + u2(1) + b'0' + b'\\x02' + self.hero_name.get_bytes() \\\n",
        "        + u2(1) + b'1' + b'\\x02' + self.skincolor.get_bytes() \\\n",
        "        + u2(1) + b'2' + b'\\x02' + self.haircolor.get_bytes() \\\n",
        "        + u2(1) + b'3' + b'\\x02' + self.features.get_bytes() \\\n",
        "        + u2(1) + b'4' + b'\\x02' + self.hairstyle.get_bytes() \\\n",
        "        + u2(1) + b'5' + b'\\x02' + self.facehairstyle.get_bytes() \\\n",
        "        + u2(1) + b'6' + b'\\x02' + self.shoulderguard.get_bytes() \\\n",
        "        + u2(1) + b'7' + b'\\x02' + self.gauntlet.get_bytes() \\\n",
        "        + u2(1) + b'8' + b'\\x02' + self.breastplate.get_bytes() \\\n",
        "        + u2(1) + b'9' + b'\\x02' + self.helmet.get_bytes() \\\n",
        "        + u2(2) + b'10' + b'\\x02' + self.greaves.get_bytes() \\\n",
        "        + u2(2) + b'11' + b'\\x02' + self.shinguard.get_bytes() \\\n",
        "        + u2(2) + b'12' + b'\\x02' + self.boot.get_bytes() \\\n",
        "        + u2(2) + b'13' + b'\\x02' + self.weapon.get_bytes() \\\n",
        "        + u2(2) + b'14' + b'\\x02' + self.shield.get_bytes() \\\n",
        "        + u2(2) + b'15' + b'\\x02' + self.battlesfought.get_bytes() \\\n",
        "        + u2(2) + b'16' + b'\\x02' + self.strength.get_bytes() \\\n",
        "        + u2(2) + b'17' + b'\\x02' + self.speed.get_bytes() \\\n",
        "        + u2(2) + b'18' + b'\\x02' + self.attack.get_bytes() \\\n",
        "        + u2(2) + b'19' + b'\\x02' + self.defence.get_bytes() \\\n",
        "        + u2(2) + b'20' + b'\\x02' + self.vitality.get_bytes() \\\n",
        "        + u2(2) + b'21' + b'\\x02' + self.charisma.get_bytes() \\\n",
        "        + u2(2) + b'22' + b'\\x02' + self.stamina.get_bytes() \\\n",
        "        + u2(2) + b'23' + b'\\x02' + self.magicka.get_bytes() \\\n",
        "        + u2(2) + b'24' + b'\\x02' + self.herolevel.get_bytes() \\\n",
        "        + u2(2) + b'25' + b'\\x02' + self.experience.get_bytes() \\\n",
        "        + u2(2) + b'26' + b'\\x02' + self.experienceneeded.get_bytes() \\\n",
        "        + u2(2) + b'27' + b'\\x02' + self.villain_xp.get_bytes() \\\n",
        "        + u2(2) + b'28' + b'\\x02' + self.mostpowerfulfoe.get_bytes() \\\n",
        "        + u2(2) + b'29' + b'\\x02' + self.goldpieces.get_bytes() \\\n",
        "        + u2(2) + b'30' + b'\\x02' + self.current_tournament.get_bytes() \\\n",
        "        + u2(2) + b'31' + b'\\x02' + self.gladiatorscore.get_bytes() \\\n",
        "        + u2(2) + b'32' + b'\\x02' + self.weapon_enchantment_potency.get_bytes() \\\n",
        "        + u2(2) + b'33' + b'\\x02' + self.weapon_enchantment_type.get_bytes() \\\n",
        "        + u2(2) + b'34' + b'\\x02' + self.inventory1.get_bytes() \\\n",
        "        + u2(2) + b'35' + b'\\x02' + self.inventory2.get_bytes() \\\n",
        "        + u2(2) + b'36' + b'\\x02' + self.inventory3.get_bytes() \\\n",
        "        + u2(2) + b'37' + b'\\x02' + self.inventory4.get_bytes() \\\n",
        "        + u2(2) + b'38' + b'\\x02' + self.inventory5.get_bytes() \\\n",
        "        + u2(2) + b'39' + b'\\x02' + self.inventory6.get_bytes() \\\n",
        "        + u2(2) + b'40' + b'\\x02' + self.inventory_maxslots.get_bytes() \\\n",
        "        + u2(2) + b'41' + b'\\x02' + self.battleswon.get_bytes() \\\n",
        "        + u2(2) + b'42' + b'\\x02' + self.days_in_arena.get_bytes() \\\n",
        "        + u2(2) + b'43' + b'\\x02' + self.battlesfought.get_bytes() \\\n",
        "        + u2(2) + b'44' + b'\\x02' + self.battleslost.get_bytes() \\\n",
        "        + u2(2) + b'45' + b'\\x02' + self.secondary_weapon.get_bytes() \\\n",
        "        + u2(2) + b'46' + b'\\x02' + self.secondary_weapon_enchantment_potency.get_bytes() \\\n",
        "        + u2(2) + b'47' + b'\\x02' + self.secondary_weapon_enchantment_type.get_bytes() \\\n",
        "        + u2(2) + b'48' + b'\\x02' + self.maximum_ammo.get_bytes() \\\n",
        "        + u2(2) + b'49' + b'\\x02' + self.equipped_weapon.get_bytes() \\\n",
        "        + b'\\x00\\x00\\x09'\n",
        "\n",
        "\n",
        "  def __str__(self):\n",
        "    return str(self.hero_name) if not self.empty else \"<Empty>\"\n",
        "\n",
        "\n",
        "class parser:\n",
        "  def __init__(self, data):\n",
        "    self.header = cut(data, 0x42)\n",
        "    self.characters = []\n",
        "    for _ in range(11):\n",
        "      self.characters.append(character(data))\n",
        "\n",
        "  def get_bytes(self):\n",
        "    acc = bytes(self.header)\n",
        "    for x in self.characters:\n",
        "      acc += x.get_bytes()\n",
        "    return acc\n",
        "\n",
        "  def __str__(self):\n",
        "    return str(self.header)\n",
        "\n",
        "\n",
        "parnew = parser(new)\n",
        "parsed = parnew.get_bytes()\n",
        "\n",
        "assert parsed == original[:len(parsed)]\n",
        "assert len(original) == len(parsed)\n",
        "assert original == parsed"
      ]
    },
    {
      "cell_type": "code",
      "source": [
        "original == parsed"
      ],
      "metadata": {
        "colab": {
          "base_uri": "https://localhost:8080/"
        },
        "id": "8JHYjruEzfbu",
        "outputId": "63f33249-278f-410c-9353-10987d9e91d9"
      },
      "execution_count": 119,
      "outputs": [
        {
          "output_type": "execute_result",
          "data": {
            "text/plain": [
              "True"
            ]
          },
          "metadata": {},
          "execution_count": 119
        }
      ]
    },
    {
      "cell_type": "code",
      "source": [
        "parnew.get_bytes() == parsed"
      ],
      "metadata": {
        "colab": {
          "base_uri": "https://localhost:8080/"
        },
        "id": "bsCYovo4zp1o",
        "outputId": "609a18bf-f637-47f0-9d46-c502e2909d28"
      },
      "execution_count": 120,
      "outputs": [
        {
          "output_type": "execute_result",
          "data": {
            "text/plain": [
              "True"
            ]
          },
          "metadata": {},
          "execution_count": 120
        }
      ]
    },
    {
      "cell_type": "code",
      "source": [
        "original == parsed"
      ],
      "metadata": {
        "colab": {
          "base_uri": "https://localhost:8080/"
        },
        "id": "LF4WNOyM0E00",
        "outputId": "9f7a4d11-7a3c-45df-923f-85bf5f43930d"
      },
      "execution_count": 121,
      "outputs": [
        {
          "output_type": "execute_result",
          "data": {
            "text/plain": [
              "True"
            ]
          },
          "metadata": {},
          "execution_count": 121
        }
      ]
    },
    {
      "cell_type": "code",
      "source": [
        "print(*parnew.characters)"
      ],
      "metadata": {
        "colab": {
          "base_uri": "https://localhost:8080/"
        },
        "id": "xZFxfh6Ar8pr",
        "outputId": "72cf195b-4bc0-41a9-b161-267e542d7938"
      },
      "execution_count": 122,
      "outputs": [
        {
          "output_type": "stream",
          "name": "stdout",
          "text": [
            "Gladiator Gladiator Gladiator yarrak1 <Empty> <Empty> <Empty> <Empty> <Empty> <Empty> <Empty>\n"
          ]
        }
      ]
    },
    {
      "cell_type": "code",
      "source": [
        "import copy\n",
        "parnew.characters[3] = copy.deepcopy(parnew.characters[0])\n",
        "parnew.characters[3].chari.string = 'character4'"
      ],
      "metadata": {
        "id": "UxdWstvrsryR"
      },
      "execution_count": 123,
      "outputs": []
    },
    {
      "cell_type": "code",
      "source": [
        "parnew.characters[3].hero_name.string = 'husametting'"
      ],
      "metadata": {
        "id": "KSesYhcG7cQH"
      },
      "execution_count": 124,
      "outputs": []
    },
    {
      "cell_type": "code",
      "source": [
        "parnew.characters[3].strength.string = '60'\n",
        "parnew.characters[3].speed.string    = '40'\n",
        "parnew.characters[3].attack.string   = '1'\n",
        "parnew.characters[3].defence.string  = '1'\n",
        "parnew.characters[3].vitality.string = '1'\n",
        "parnew.characters[3].charisma.string = '1'\n",
        "parnew.characters[3].stamina.string  = '61'\n",
        "parnew.characters[3].magicka.string  = '1'"
      ],
      "metadata": {
        "id": "ALp8LpWf7ftX"
      },
      "execution_count": 125,
      "outputs": []
    },
    {
      "cell_type": "code",
      "source": [
        "print(base64.b64encode(parnew.get_bytes()).decode('utf-8'))\n"
      ],
      "metadata": {
        "colab": {
          "base_uri": "https://localhost:8080/"
        },
        "id": "Nan5mQ6ys1n0",
        "outputId": "2a13acd5-12c6-4fa6-a001-944a2488b139"
      },
      "execution_count": 126,
      "outputs": [
        {
          "output_type": "stream",
          "name": "stdout",
          "text": [
            "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\n"
          ]
        }
      ]
    },
    {
      "cell_type": "code",
      "source": [
        "\"\"\"\n",
        "\n",
        "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\n",
        "whichcharacter.characterDNA = DNA.split(\",\");\n",
        "whichcharacter.hero_name = String(characterDNA[0]) ;\n",
        "whichcharacter.skincolor = Number(whichcharacter.characterDNA[1]);\n",
        "whichcharacter.haircolor = Number(whichcharacter.characterDNA[2]);\n",
        "whichcharacter.features = Number(whichcharacter.characterDNA[3]);\n",
        "whichcharacter.hairstyle = Number(whichcharacter.characterDNA[4]);\n",
        "whichcharacter.facehairstyle = Number(whichcharacter.characterDNA[5]);\n",
        "whichcharacter.shoulderguard = Number(whichcharacter.characterDNA[6]);|\n",
        "whichcharacter.gauntlet = Number(whichcharacter.characterDNAl7]);\n",
        "whichcharacter.breastplate = Number(whichcharacter.characterDNA[8]);\n",
        "whichcharacter.helmet = Number(whichcharacter.characterDNA[9]);\n",
        "whichcharacter.greaves = Number(whichcharacter.characterDNA[10]);\n",
        "whichcharacter.shinguard = Number(whichcharacter.characterDNA[11]);\n",
        "whichcharacter.boot = Number(whichcharacter.characterDNA[12]);\n",
        "whichcharacter.weapon = Number(whichcharacter.characterDNA[13]);\n",
        "whichcharacter.shield = Number(whichcharacter.characterDNA[14]);\n",
        "whichcharacter.battlesfought = Number(whichcharacter.characterDNA[15]);\n",
        "whichcharacter.strength = Number(whichcharacter.characterDNA[16]);\n",
        "whichcharacter.speed = Number(whichcharacter.characterDNA[17]);\n",
        "whichcharacter.attack = Number(whichcharacter.characterDNA[18]);\n",
        "whichcharacter.defence = Number(whichcharacter.characterDNA[19]);\n",
        "whichcharacter.vitality = Number(whichcharacter.characterDNA[20]);\n",
        "whichcharacter.charisma = Number(whichcharacter.characterDNA[21]);\n",
        "whichcharacter.stamina = Number(whichcharacter.characterDNA[22]);\n",
        "whichcharacter.magicka = Number(whichcharacter.characterDNA[23]);\n",
        "whichcharacter.herolevel = Number(whichcharacter.characterDNA[24]);\n",
        "whichcharacter.experience = Number(whichcharacter.characterDNA[25]);\n",
        "whichcharacter.experienceneeded = Number(whichcharacter.characterDNA [26]);\n",
        "whichcharacter.experienceneeded = Number(whichcharacter.characterDNA[26]) ;\n",
        "whichcharacter.villain_xp = Number(whichcharacter.characterDNA[27]);\n",
        "whichcharacter.mostpowerfulfoe = String(whichcharacter.characterDNA[28]);\n",
        "whichcharacter.goldpieces = Number(whichcharacter.characterDNA[29]);\n",
        "whichcharacter.current_tournament = Number(whichcharacter.characterDNA[30]);\n",
        "whichcharacter-gladiatorscore = Number(whichcharacter.characterDNA[31]);\n",
        "whichcharacter.weapon_enchantment_potency = Number(whichcharacter.characterDNA[32]);\n",
        "whichcharacter.weapon_enchantment_type = Number(whichcharacter.characterDNA[33]);\n",
        "whichcharacter.inventory1 = Number(whichcharacter.characterDNA[34]);\n",
        "whichcharacter. inventory2 = Number(whichcharacter.characterDNA[35]);\n",
        "whichcharacter.inventory3 = Number(whichcharacter.characterDNA[36]);\n",
        "whichcharacter.inventory4 = Number(whichcharacter.characterDNA[37]);\n",
        "whichcharacter.inventory5 = Number(whichcharacter.characterDNA[38]);\n",
        "whichcharacter.inventory6 = Number(whichcharacter characterDNA[391);\n",
        "whichcharacter.inventory_maxslots = Number(whichcharacter.characterDNA[40]);\n",
        "whichcharacter.battleswon = Number(whichcharacter.characterDNA[41]);\n",
        "whichcharacter.days_in_arena = Number(whichcharacter.characterDNA[42]);\n",
        "whichcharacter.battlesfought = Number(whichcharacter.characterDNA[43]);\n",
        "whichcharacter.battleslost = Number(whichcharacter.characterDNA[44]);\n",
        "whichcharacter.secondary_weapon = Number(whichcharacter.characterDNA[45]);\n",
        "whichcharacter.secondary_weapon_enchantment_potency = Number(whichcharacter.characterDNA[46]);\n",
        "whichcharacter.secondary_weapon_enchantment_type = Number(whichcharacter.characterDNA[47]);\n",
        "whichcharacter.maximum_ammo = Number(whichcharacter.characterDNA[48]);\n",
        "whichcharacter.equipped_weapon = Number(whichcharacter.characterDNA[49]);\n",
        "\n",
        "\"\"\""
      ],
      "metadata": {
        "colab": {
          "base_uri": "https://localhost:8080/",
          "height": 146
        },
        "id": "_-RGdfTVdlS5",
        "outputId": "5ef60db2-c864-4dfd-fe46-560f9adf96ba"
      },
      "execution_count": 130,
      "outputs": [
        {
          "output_type": "execute_result",
          "data": {
            "text/plain": [
              "'\\n\\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\\nwhichcharacter.characterDNA = DNA.split(\",\");\\nwhichcharacter.hero_name = String(characterDNA[0]) ;\\nwhichcharacter.skincolor = Number(whichcharacter.characterDNA[1]);\\nwhichcharacter.haircolor = Number(whichcharacter.characterDNA[2]);\\nwhichcharacter.features = Number(whichcharacter.characterDNA[3]);\\nwhichcharacter.hairstyle = Number(whichcharacter.characterDNA[4]);\\nwhichcharacter.facehairstyle = Number(whichcharacter.characterDNA[5]);\\nwhichcharacter.shoulderguard = Number(whichcharacter.characterDNA[6]);|\\nwhichcharacter.gauntlet = Number(whichcharacter.characterDNAl7]);\\nwhichcharacter.breastplate = Number(whichcharacter.characterDNA[8]);\\nwhichcharacter.helmet = Number(whichcharacter.characterDNA[9]);\\nwhichcharacter.greaves = Number(whichcharacter.characterDNA[10]);\\nwhichcharacter.shinguard = Number(whichcharacter.characterDNA[11]);\\nwhichcharacter.boot = Number(whichcharacter.characterDNA[12]);\\nwhichcharacter.weapon = Number(whichcharacter.characterDNA[13]);\\nwhichcharacter.shield = Number(whichcharacter.characterDNA[14]);\\nwhichcharacter.battlesfought = Number(whichcharacter.characterDNA[15]);\\nwhichcharacter.strength = Number(whichcharacter.characterDNA[16]);\\nwhichcharacter.speed = Number(whichcharacter.characterDNA[17]);\\nwhichcharacter.attack = Number(whichcharacter.characterDNA[18]);\\nwhichcharacter.defence = Number(whichcharacter.characterDNA[19]);\\nwhichcharacter.vitality = Number(whichcharacter.characterDNA[20]);\\nwhichcharacter.charisma = Number(whichcharacter.characterDNA[21]);\\nwhichcharacter.stamina = Number(whichcharacter.characterDNA[22]);\\nwhichcharacter.magicka = Number(whichcharacter.characterDNA[23]);\\nwhichcharacter.herolevel = Number(whichcharacter.characterDNA[24]);\\nwhichcharacter.experience = Number(whichcharacter.characterDNA[25]);\\nwhichcharacter.experienceneeded = Number(whichcharacter.characterDNA [26]);\\nwhichcharacter.experienceneeded = Number(whichcharacter.characterDNA[26]) ;\\nwhichcharacter.villain_xp = Number(whichcharacter.characterDNA[27]);\\nwhichcharacter.mostpowerfulfoe = String(whichcharacter.characterDNA[28]);\\nwhichcharacter.goldpieces = Number(whichcharacter.characterDNA[29]);\\nwhichcharacter.current_tournament = Number(whichcharacter.characterDNA[30]);\\nwhichcharacter-gladiatorscore = Number(whichcharacter.characterDNA[31]);\\nwhichcharacter.weapon_enchantment_potency = Number(whichcharacter.characterDNA[32]);\\nwhichcharacter.weapon_enchantment_type = Number(whichcharacter.characterDNA[33]);\\nwhichcharacter.inventory1 = Number(whichcharacter.characterDNA[34]);\\nwhichcharacter. inventory2 = Number(whichcharacter.characterDNA[35]);\\nwhichcharacter.inventory3 = Number(whichcharacter.characterDNA[36]);\\nwhichcharacter.inventory4 = Number(whichcharacter.characterDNA[37]);\\nwhichcharacter.inventory5 = Number(whichcharacter.characterDNA[38]);\\nwhichcharacter.inventory6 = Number(whichcharacter characterDNA[391);\\nwhichcharacter.inventory_maxslots = Number(whichcharacter.characterDNA[40]);\\nwhichcharacter.battleswon = Number(whichcharacter.characterDNA[41]);\\nwhichcharacter.days_in_arena = Number(whichcharacter.characterDNA[42]);\\nwhichcharacter.battlesfought = Number(whichcharacter.characterDNA[43]);\\nwhichcharacter.battleslost = Number(whichcharacter.characterDNA[44]);\\nwhichcharacter.secondary_weapon = Number(whichcharacter.characterDNA[45]);\\nwhichcharacter.secondary_weapon_enchantment_potency = Number(whichcharacter.characterDNA[46]);\\nwhichcharacter.secondary_weapon_enchantment_type = Number(whichcharacter.characterDNA[47]);\\nwhichcharacter.maximum_ammo = Number(whichcharacter.characterDNA[48]);\\nwhichcharacter.equipped_weapon = Number(whichcharacter.characterDNA[49]);\\n\\n'"
            ],
            "application/vnd.google.colaboratory.intrinsic+json": {
              "type": "string"
            }
          },
          "metadata": {},
          "execution_count": 130
        }
      ]
    },
    {
      "cell_type": "markdown",
      "source": [],
      "metadata": {
        "id": "pQRo1XfkdmiK"
      }
    },
    {
      "cell_type": "code",
      "source": [
        "new = bytearray(value)\n",
        "new[0x622] = ord('b')"
      ],
      "metadata": {
        "id": "AFIal_FMgVM3"
      },
      "execution_count": 128,
      "outputs": []
    },
    {
      "cell_type": "code",
      "source": [
        "base64.b64encode(new)"
      ],
      "metadata": {
        "id": "_zuXEvVtgxrw",
        "outputId": "fe53615e-1806-43e7-c4f6-0b0d748532a9",
        "colab": {
          "base_uri": "https://localhost:8080/"
        }
      },
      "execution_count": 129,
      "outputs": [
        {
          "output_type": "execute_result",
          "data": {
            "text/plain": [
              "b'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'"
            ]
          },
          "metadata": {},
          "execution_count": 129
        }
      ]
    }
  ]
}